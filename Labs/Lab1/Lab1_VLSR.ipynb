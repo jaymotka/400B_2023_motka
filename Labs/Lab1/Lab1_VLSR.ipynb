{
 "cells": [
  {
   "cell_type": "markdown",
   "metadata": {},
   "source": [
    "# In Class Lab 1\n",
    "\n",
    "### Due by 5 PM Jan 31st in your github repository 'Labs/Lab1' folder\n",
    "\n",
    "## Part A:  The Local Standard of Rest\n",
    "Proper motion of Sgr A* from Reid & Brunthaler 2004\n",
    "$\\mu = 6.379$ mas/yr \n",
    "\n",
    "Peculiar motion of the sun, $v_\\odot$ = 12.24 km/s  (Schonrich 2010)\n",
    "\n",
    "\n",
    "$v_{tan} = 4.74 \\frac{\\mu}{\\rm mas/yr} \\frac{R_o}{\\rm kpc} = V_{LSR} + v_\\odot$\n",
    "\n",
    "\n",
    "### a)\n",
    "\n",
    "Create a function called VLSR to compute the local standard of res (V$_{LSR}$).\n",
    "\n",
    "The function should take as input: the solar radius (R$_o$), the proper motion (mu)\n",
    "and the peculiar motion of the sun in the $v_\\odot$ direction.\n",
    "\n",
    "Compute V$_{LSR}$ using three different values R$_o$: \n",
    "1. Water Maser Distance for the Sun :  R$_o$ = 8.34 kpc   (Reid 2014 ApJ 783) \n",
    "2. GRAVITY Collaboration Distance for the Sun:  R$_o$ = 8.178 kpc   (Abuter+2019 A&A 625)\n",
    "3. Value for Distance to Sun listed in Sparke & Gallagher : R$_o$ = 7.9 kpc \n"
   ]
  },
  {
   "cell_type": "code",
   "execution_count": 32,
   "metadata": {},
   "outputs": [],
   "source": [
    "# Import Modules \n",
    "import numpy as np # import numpy\n",
    "import astropy.units as u # import astropy units\n",
    "from astropy import constants as const # import astropy constants"
   ]
  },
  {
   "cell_type": "code",
   "execution_count": 33,
   "metadata": {},
   "outputs": [],
   "source": [
    "def VLSR(Ro, mu=6.379, vsun=12.24*u.km/u.s):\n",
    "    \"\"\"This function computes the velocity at the local standard of rest.\n",
    "    \n",
    "            VLSR = 4.74*mu*Ro - vsun\n",
    "            \n",
    "    Parameters\n",
    "    ----------\n",
    "        Ro: astropy.Quantity\n",
    "            The distance from the sun to the Galactic Center in kpc.\n",
    "        \n",
    "        mu: float\n",
    "            The proper motion of Sgr A* in mas/yr.\n",
    "            Default: 6.379 mas/yr (from Reid & Brunthaler 2004).\n",
    "            \n",
    "        vsun: astropy.Quantity\n",
    "            The peculiar motion of the Sun in the v direction in km/s.\n",
    "            Default: 12.24 km/s (from Schonrich et al. 2010).\n",
    "            \n",
    "    Returns\n",
    "    -------\n",
    "        VLSR: astropy.Quantity\n",
    "            The velocity of local standard of rest in km/s\n",
    "    \"\"\"\n",
    "    \n",
    "    VLSR = 4.74*mu*(Ro/u.kpc)*u.km/u.s - vsun     # Calculating VLSR\n",
    "    \n",
    "    return VLSR"
   ]
  },
  {
   "cell_type": "code",
   "execution_count": 34,
   "metadata": {},
   "outputs": [],
   "source": [
    "# Define our distance to the Galctic Center from the Sin\n",
    "\n",
    "RoReid = 8.34*u.kpc    # Distance from Reid+2014 in kpc\n",
    "RoGravity = 8.178*u.kpc    # Distance from Gravity Collab Abuter+2019 in kpc\n",
    "RoSG = 7.9*u.kpc    # Distance from the textbook Sparke & Gallagher in kpc"
   ]
  },
  {
   "cell_type": "code",
   "execution_count": 35,
   "metadata": {},
   "outputs": [
    {
     "name": "stdout",
     "output_type": "stream",
     "text": [
      "239.9320764 km / s\n"
     ]
    }
   ],
   "source": [
    "# Compute VLSR using Ro from Reid+2014\n",
    "VLSR_Reid = VLSR(RoReid)\n",
    "print(VLSR_Reid)"
   ]
  },
  {
   "cell_type": "code",
   "execution_count": 36,
   "metadata": {},
   "outputs": [
    {
     "name": "stdout",
     "output_type": "stream",
     "text": [
      "235.0 km / s\n"
     ]
    }
   ],
   "source": [
    "# Compute VLSR using Ro from Gravity Collab Abuter+2019\n",
    "VLSR_Gravity = VLSR(RoGravity)\n",
    "print(np.round(VLSR_Gravity))"
   ]
  },
  {
   "cell_type": "code",
   "execution_count": 37,
   "metadata": {},
   "outputs": [
    {
     "name": "stdout",
     "output_type": "stream",
     "text": [
      "227.0 km / s\n"
     ]
    }
   ],
   "source": [
    "# Compute VLSR using Ro from the textbook Sparke & Gallagher\n",
    "VLSR_SG = VLSR(RoSG)\n",
    "print(np.round(VLSR_SG))"
   ]
  },
  {
   "cell_type": "markdown",
   "metadata": {},
   "source": [
    "### b)\n",
    "\n",
    "compute the orbital period of the sun in Gyr using R$_o$ from the GRAVITY Collaboration (assume circular orbit)\n",
    "\n",
    "Note that 1 km/s $\\sim$ 1kpc/Gyr"
   ]
  },
  {
   "cell_type": "code",
   "execution_count": 38,
   "metadata": {},
   "outputs": [],
   "source": [
    "def TorbSun(Ro, vsun):\n",
    "    \"\"\"This function will compute the orbital period of the Sun. \n",
    "    \n",
    "        T = 2*pi*R/v\n",
    "    \n",
    "    Parameters\n",
    "    ----------\n",
    "        Ro: astropy.Quantity\n",
    "            Distance to the Glactic Center in kpc\n",
    "        vsun: astropy.Quantity\n",
    "            Velocity of the Sun in v direction in km/s.\n",
    "    \n",
    "    Returns\n",
    "    -------\n",
    "        T: astropy.Quantity\n",
    "            Orbital period in Gyr.\n",
    "    \"\"\"\n",
    "    \n",
    "    vsun_kpcGyr = vsun.to(u.kpc/u.Gyr)   # Converting vsun from km/s to kpc/Gyr\n",
    "    T = 2*np.pi*Ro / vsun_kpcGyr         # Calulating orbital period\n",
    "    \n",
    "    return T"
   ]
  },
  {
   "cell_type": "code",
   "execution_count": 39,
   "metadata": {},
   "outputs": [],
   "source": [
    "# Velocity of the sun = VLSR + peculiar motion\n",
    "vsunPeculiar = 12.24*u.km/u.s\n",
    "vsun = VLSR_Gravity + vsunPeculiar"
   ]
  },
  {
   "cell_type": "code",
   "execution_count": 40,
   "metadata": {},
   "outputs": [
    {
     "name": "stdout",
     "output_type": "stream",
     "text": [
      "0.20318680562272234 Gyr\n"
     ]
    }
   ],
   "source": [
    "# Compute the orbital period of the Sun:\n",
    "# Use Ro from gravity Collaboration\n",
    "T_Grav = TorbSun(RoGravity, vsun)\n",
    "print(T_Grav)"
   ]
  },
  {
   "cell_type": "markdown",
   "metadata": {},
   "source": [
    "### c)\n",
    "\n",
    "Compute the number of rotations about the GC over the age of the universe (13.8 Gyr)"
   ]
  },
  {
   "cell_type": "code",
   "execution_count": 41,
   "metadata": {},
   "outputs": [
    {
     "name": "stdout",
     "output_type": "stream",
     "text": [
      "67.91779593023313\n"
     ]
    }
   ],
   "source": [
    "# Calculating the number of rotations about the GC ove rthe age of the universe:\n",
    "# No of Rotations = Age of Universe / Orbital Period\n",
    "\n",
    "Age = 13.8*u.Gyr     # Age of the Universe\n",
    "print(Age/T_Grav)"
   ]
  },
  {
   "cell_type": "markdown",
   "metadata": {},
   "source": [
    "## Part B  Dark Matter Density Profiles\n",
    "\n",
    "### a)\n",
    "Try out Fitting Rotation Curves \n",
    "[here](http://wittman.physics.ucdavis.edu/Animations/RotationCurve/GalacticRotation.html)\n",
    "\n",
    "\n",
    "### b)\n",
    "\n",
    "\n",
    "In the Isothermal Sphere model, what is the mass enclosed within the solar radius (R$_o$) in units of M$_\\odot$? \n",
    "\n",
    "Recall that for the Isothermal sphere :\n",
    "$\\rho(r) = \\frac{V_{LSR}^2}{4\\pi G r^2}$\n",
    "\n",
    "Where $G$ = 4.4985e-6 kpc$^3$/Gyr$^2$/M$_\\odot$, r is in kpc and $V_{LSR}$ is in km/s\n",
    "\n",
    "What about at 260 kpc (in units of  M$_\\odot$) ? "
   ]
  },
  {
   "cell_type": "code",
   "execution_count": 42,
   "metadata": {},
   "outputs": [
    {
     "data": {
      "text/latex": [
       "$4.4985022 \\times 10^{-6} \\; \\mathrm{\\frac{kpc^{3}}{M_{\\odot}\\,Gyr^{2}}}$"
      ],
      "text/plain": [
       "<Quantity 4.49850215e-06 kpc3 / (Gyr2 solMass)>"
      ]
     },
     "execution_count": 42,
     "metadata": {},
     "output_type": "execute_result"
    }
   ],
   "source": [
    "# Gravitational constant in the desired units\n",
    "\n",
    "Grav = const.G.to(u.kpc**3/u.Gyr**2/u.Msun)\n",
    "Grav"
   ]
  },
  {
   "cell_type": "code",
   "execution_count": 43,
   "metadata": {},
   "outputs": [],
   "source": [
    "# density profile rho = VLSR^2 / (4*pi*G*R^2)\n",
    "# Mass = Integrate rho dV\n",
    "#      = Int rho 4*pi*r**2 dr\n",
    "#      = Int VLSR**2 * (4*pi*r**2) dr/ (4*pi*G*r**2)\n",
    "#      = Int VLSR**2 / G dr\n",
    "#      = VLSR**2 Ro / G\n",
    "\n",
    "def MassIso(r, VLSR):\n",
    "    \"\"\" This function wull compute the dark matter mass enclosed within a given distance \n",
    "        assuming an Isothermal Sphere Model for the dark matter.\n",
    "        \n",
    "            M = VLSR**2 * r / G\n",
    "    \n",
    "    Parameters\n",
    "    ----------\n",
    "        r: astropy.Quantity\n",
    "            Distance to the Galactic Center in kpc.\n",
    "        VLSR: astropy.Quantity\n",
    "            Velocity of the Local Standard of Rest in km/s.\n",
    "    \n",
    "    Returns\n",
    "    -------\n",
    "        M: astropy.Quantity\n",
    "            Mass enclosed within r in units of solar mass.\n",
    "    \"\"\"\n",
    "    \n",
    "    M = VLSR**2 / Grav * r\n",
    "    \n",
    "    return M"
   ]
  },
  {
   "cell_type": "code",
   "execution_count": 44,
   "metadata": {},
   "outputs": [
    {
     "name": "stdout",
     "output_type": "stream",
     "text": [
      "105038025820.79904 solMass\n"
     ]
    }
   ],
   "source": [
    "MIsoSolar = MassIso(RoGravity, VLSR_Gravity.to(u.kpc/u.Gyr))\n",
    "print(MIsoSolar)"
   ]
  },
  {
   "cell_type": "code",
   "execution_count": 45,
   "metadata": {},
   "outputs": [
    {
     "name": "stdout",
     "output_type": "stream",
     "text": [
      "1.05e+11 solMass\n"
     ]
    }
   ],
   "source": [
    "# Print in the scientific notation:\n",
    "print(f\"{MIsoSolar:.2e}\")"
   ]
  },
  {
   "cell_type": "code",
   "execution_count": 46,
   "metadata": {},
   "outputs": [
    {
     "name": "stdout",
     "output_type": "stream",
     "text": [
      "3.34e+12 solMass\n"
     ]
    }
   ],
   "source": [
    "# Computing the mass within 260 kpc:\n",
    "MIsoSolar_260kpc = MassIso(260*u.kpc, VLSR_Gravity.to(u.kpc/u.Gyr))\n",
    "print(f\"{MIsoSolar_260kpc:.2e}\")"
   ]
  },
  {
   "cell_type": "markdown",
   "metadata": {},
   "source": [
    "## c) \n",
    "\n",
    "The Leo I satellite is one of the fastest moving satellite galaxies we know. \n",
    "\n",
    "\n",
    "It is moving with 3D velocity of magnitude: Vtot = 196 km/s at a distance of 260 kpc (Sohn 2013 ApJ 768)\n",
    "\n",
    "If we assume that Leo I is moving at the escape speed:\n",
    "\n",
    "$v_{esc}^2 = 2|\\Phi| = 2 \\int G \\frac{\\rho(r)}{r}dV $ \n",
    "\n",
    "and assuming the Milky Way is well modeled by a Hernquist Sphere with a scale radius of $a$= 30 kpc, what is the minimum mass of the Milky Way (in units of M$_\\odot$) ?  \n",
    "\n",
    "How does this compare to estimates of the mass assuming the Isothermal Sphere model at 260 kpc (from your answer above)"
   ]
  },
  {
   "cell_type": "code",
   "execution_count": null,
   "metadata": {},
   "outputs": [],
   "source": []
  },
  {
   "cell_type": "code",
   "execution_count": null,
   "metadata": {},
   "outputs": [],
   "source": []
  }
 ],
 "metadata": {
  "kernelspec": {
   "display_name": "Python 3 (ipykernel)",
   "language": "python",
   "name": "python3"
  },
  "language_info": {
   "codemirror_mode": {
    "name": "ipython",
    "version": 3
   },
   "file_extension": ".py",
   "mimetype": "text/x-python",
   "name": "python",
   "nbconvert_exporter": "python",
   "pygments_lexer": "ipython3",
   "version": "3.9.13"
  }
 },
 "nbformat": 4,
 "nbformat_minor": 2
}
