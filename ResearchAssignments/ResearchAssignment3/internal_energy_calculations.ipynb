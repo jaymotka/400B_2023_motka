{
 "cells": [
  {
   "cell_type": "markdown",
   "id": "5fba2965",
   "metadata": {},
   "source": [
    "# Transformation of Halo Energy Budgets during The Formation of Samyog (Major MW-M31 Merger Remnant)"
   ]
  },
  {
   "cell_type": "markdown",
   "id": "97f6356e",
   "metadata": {},
   "source": [
    "### Question: \n",
    "Where does the orbital energies being lost during the merger process go? We will be concentrating on finding internal energy budgets for this assignment."
   ]
  },
  {
   "cell_type": "markdown",
   "id": "01835b22",
   "metadata": {},
   "source": [
    "### Calculation & Plot: \n",
    "In this assignment, we will be calculating internal energies (kinetic, potential, and total) of the three galaxy haloes before the merger and two remnant galaxy haloes after the merger. (We may plot a continuous evolution of the internal energy budgets of the galaxies.)"
   ]
  },
  {
   "cell_type": "markdown",
   "id": "31be99a5",
   "metadata": {},
   "source": [
    "### Outline:\n",
    "\n",
    "1. Write a function to store halo data from a given file.\n",
    "2. Write a function to calculate internal potential energy of any halo.\n",
    "3. Write a function to calculate internal kinetic energy of any halo.\n",
    "4. Write a function to calculate total internal energy of any halo.\n",
    "5. Write a function that combines the data from MW & M31 after the merger has occured.\n",
    "6. Write a function to loop over data files to store a continuous energy evolution of different haloes for a given time period.\n",
    "7. Write a function to create plots of various internal energy budgets before and after the merger."
   ]
  },
  {
   "cell_type": "code",
   "execution_count": 1,
   "id": "5c7babb6",
   "metadata": {},
   "outputs": [],
   "source": [
    "# importing modules:\n",
    "import numpy as np\n",
    "import astropy.units as u\n",
    "import astropy.constants as const\n",
    "\n",
    "# importing plotting modules\n",
    "import matplotlib.pyplot as plt\n",
    "import matplotlib as mpl\n",
    "%matplotlib inline\n",
    "\n",
    "# my modules\n",
    "from ReadFile import Read\n",
    "from CenterOfMass2 import CenterOfMass"
   ]
  },
  {
   "cell_type": "markdown",
   "id": "1d041a92",
   "metadata": {},
   "source": [
    "#### 1. Write a function to to store halo data from given data file:\n",
    "\n",
    "We will utilize ReadFile.py that we have written in the homework to read in the data files. Then, we will store the data for dark matter particles as a numpy array."
   ]
  },
  {
   "cell_type": "code",
   "execution_count": 2,
   "id": "811d8d24",
   "metadata": {},
   "outputs": [],
   "source": [
    "def reading_dm_data(filename):\n",
    "    \"\"\"\n",
    "    This function reads in dark matter data from a given file and stores it as a numpy array.\n",
    "    \n",
    "    Parameters\n",
    "    ----------\n",
    "    filename: string\n",
    "        name of the data file\n",
    "        \n",
    "    Return\n",
    "    ------\n",
    "    dm_data: numpy.array\n",
    "        dark matter data \n",
    "    \"\"\"\n",
    "    \n",
    "    # Reading in the data from the data file:\n",
    "    t, n, data = Read(filename)\n",
    "    \n",
    "    # Creating an array to store indexes of DM particles:\n",
    "    index = np.where(data['type'] == 1)\n",
    "\n",
    "    # Storing the mass, positions, velocities of only the DM particles:\n",
    "    m = data['m'][index]*1e+10      # Storing mass in Msun\n",
    "    x = data['x'][index]            # Storing x- coordinate in kpc\n",
    "    y = data['y'][index]            # Storing y-coordinate in kpc\n",
    "    z = data['z'][index]            # Storing z-coordinate in kpc\n",
    "    vx = data['vx'][index]          # Storing x-velocity in km/s\n",
    "    vy = data['vy'][index]          # Storing y-velocity in km/s \n",
    "    vz = data['vz'][index]          # Storing z-velocity in km/s\n",
    "    \n",
    "    # Stacking columns to create a single numpy array: \n",
    "    dm_data = np.stack((m, x, y, z, vx, vy, vz), axis=1)\n",
    "\n",
    "    return dm_data"
   ]
  },
  {
   "cell_type": "code",
   "execution_count": 3,
   "id": "52da9e18",
   "metadata": {},
   "outputs": [
    {
     "data": {
      "text/plain": [
       "(array([[ 7.89970e+07, -3.39962e+01, -1.45128e+02, ...,  1.24249e+02,\n",
       "          1.42961e+02,  6.35280e+01],\n",
       "        [ 7.89970e+07, -2.51080e+02, -5.10644e+02, ...,  6.09452e+01,\n",
       "         -5.99759e+01, -3.79738e+01],\n",
       "        [ 7.89970e+07, -6.98628e+02,  3.75233e+02, ...,  5.00252e+01,\n",
       "         -2.06804e+01, -2.06162e+01],\n",
       "        ...,\n",
       "        [ 7.89970e+07, -1.20885e+02,  5.54729e+01, ..., -1.06895e+02,\n",
       "          1.12132e+02,  2.14847e+01],\n",
       "        [ 7.89970e+07,  5.37489e+01, -7.69094e+01, ...,  5.88646e+01,\n",
       "         -1.50590e+00,  4.54687e+01],\n",
       "        [ 7.89970e+07,  8.36840e+01, -8.92125e+01, ...,  1.65443e+02,\n",
       "          2.45564e+00, -9.87978e+01]]),\n",
       " (25000, 7))"
      ]
     },
     "execution_count": 3,
     "metadata": {},
     "output_type": "execute_result"
    }
   ],
   "source": [
    "data = reading_dm_data(\"MW_000.txt\")\n",
    "data, data.shape"
   ]
  },
  {
   "cell_type": "markdown",
   "id": "d60161c3",
   "metadata": {},
   "source": [
    "#### 2. Write a function to calculate internal potential energy of any halo:\n",
    "\n",
    "To find the internal potential energy of any given halo, we use the equation,\n",
    "\n",
    "\\begin{align}\n",
    "    P_{int,g} &= -\\frac{1}{2} \\Sigma_{i,j=1}^{N_g} \\frac{G m_i m_j}{r_{ij}}.\n",
    "    \\label{eq:potential_energy}\n",
    "\\end{align}"
   ]
  },
  {
   "cell_type": "code",
   "execution_count": 4,
   "id": "bf7af7ad",
   "metadata": {},
   "outputs": [],
   "source": [
    "def int_potential_energy(data):\n",
    "    \"\"\"\n",
    "    This function calculates the internal potential energy of a halo.\n",
    "    \n",
    "    Parameters\n",
    "    ----------\n",
    "    dm_data: numpy.array\n",
    "        dark matter data\n",
    "        \n",
    "    Returns\n",
    "    -------\n",
    "    PE: float\n",
    "        total internal potential energy of the halo in Jules\n",
    "    \"\"\"\n",
    "    \n",
    "    # Defining G in m^3/s^2/kg:\n",
    "    G = const.G\n",
    "    \n",
    "    # extracting data:\n",
    "    m = data[:,0]*u.Msun            # extracting mass \n",
    "    x = data[:,1]*u.kpc             # extracting x-coordinate\n",
    "    y = data[:,2]*u.kpc             # extracting y-coordinate\n",
    "    z = data[:,3]*u.kpc             # extracting z-coordinate\n",
    "    \n",
    "    # Converting to SI units\n",
    "    m = m.to(u.kg)\n",
    "    x,y,z = x.to(u.m), y.to(u.m), z.to(u.m)\n",
    "    \n",
    "    PE = 0\n",
    "    for i in range(m.size):\n",
    "        G_mi_mj = G*m[i]*np.delete(m, i, axis=0)\n",
    "            \n",
    "        x_sep = np.delete(x, i, axis=0) - x[i]\n",
    "        y_sep = np.delete(y, i, axis=0) - y[i]\n",
    "        z_sep = np.delete(z, i, axis=0) - z[i]\n",
    "        r_sep = np.sqrt(x_sep**2 + y_sep**2 + z_sep**2)\n",
    "\n",
    "        sum_arr = G_mi_mj / r_sep\n",
    "        \n",
    "        ind_rem = np.where(r_sep==0)\n",
    "        sum_arr = np.delete(sum_arr, ind_rem, axis=0)\n",
    "        \n",
    "        PE += np.sum(sum_arr)\n",
    "    \n",
    "    PE = PE*(-0.5)\n",
    "    \n",
    "    return PE"
   ]
  },
  {
   "cell_type": "code",
   "execution_count": 5,
   "id": "12eb2da4",
   "metadata": {},
   "outputs": [
    {
     "name": "stderr",
     "output_type": "stream",
     "text": [
      "C:\\Users\\ual-laptop\\anaconda3\\lib\\site-packages\\astropy\\units\\quantity.py:611: RuntimeWarning: divide by zero encountered in true_divide\n",
      "  result = super().__array_ufunc__(function, method, *arrays, **kwargs)\n"
     ]
    },
    {
     "data": {
      "text/latex": [
       "$-9.1991119 \\times 10^{52} \\; \\mathrm{\\frac{m^{2}\\,kg}{s^{2}}}$"
      ],
      "text/plain": [
       "<Quantity -9.19911192e+52 kg m2 / s2>"
      ]
     },
     "execution_count": 5,
     "metadata": {},
     "output_type": "execute_result"
    }
   ],
   "source": [
    "int_potential_energy(data)   # For MW at t=0"
   ]
  },
  {
   "cell_type": "markdown",
   "id": "7386503e",
   "metadata": {},
   "source": [
    "#### 3. Write a function to calculate internal kinetic energy of any halo:\n",
    "To find the internal kinetic energy of any given halo, we use the equation,\n",
    "\n",
    "\\begin{align}\n",
    "    K_{int,g} &= \\Sigma_{i=1}^{N_g} m_i v_i^2.\n",
    "    \\label{eq:kinetic_energy}\n",
    "\\end{align}"
   ]
  },
  {
   "cell_type": "code",
   "execution_count": 6,
   "id": "0a1fd03d",
   "metadata": {},
   "outputs": [],
   "source": [
    "def int_kinetic_energy(data):\n",
    "    \"\"\"\n",
    "    This function calculates the internal kinetic energy of a halo.\n",
    "    \n",
    "    Parameters\n",
    "    ----------\n",
    "    dm_data: numpy.array\n",
    "        dark matter data\n",
    "        \n",
    "    Returns\n",
    "    -------\n",
    "    KE: float\n",
    "        total internal kinetic energy of the halo in Jules\n",
    "    \"\"\"\n",
    "    \n",
    "    # extracting data:\n",
    "    m = data[:,0]*u.Msun            # extracting mass \n",
    "    vx = data[:,4]*u.km/u.s          # extracting x-velocity\n",
    "    vy = data[:,5]*u.km/u.s          # extracting y-velocity\n",
    "    vz = data[:,6]*u.km/u.s          # extracting z-velocity\n",
    "    \n",
    "    # Converting to SI units\n",
    "    m = m.to(u.kg)\n",
    "    vx, vy, vz = vx.to(u.m/u.s), vy.to(u.m/u.s), vz.to(u.m/u.s)\n",
    "    \n",
    "    # Finding the speed of particles:\n",
    "    v = np.sqrt(vx**2 + vy**2 + vz**2)\n",
    "    \n",
    "    KE = 0\n",
    "    for i in range(m.size):\n",
    "        KE += m[i] * v[i]**2\n",
    "    \n",
    "    return KE"
   ]
  },
  {
   "cell_type": "code",
   "execution_count": 7,
   "id": "e7522123",
   "metadata": {},
   "outputs": [
    {
     "data": {
      "text/latex": [
       "$1.0901477 \\times 10^{53} \\; \\mathrm{\\frac{m^{2}\\,kg}{s^{2}}}$"
      ],
      "text/plain": [
       "<Quantity 1.0901477e+53 kg m2 / s2>"
      ]
     },
     "execution_count": 7,
     "metadata": {},
     "output_type": "execute_result"
    }
   ],
   "source": [
    "int_kinetic_energy(data) # For MW at t=0"
   ]
  },
  {
   "cell_type": "markdown",
   "id": "ed7dd5fb",
   "metadata": {},
   "source": [
    "#### 4. Write a function to calculate total internal energy of any halo:\n",
    "\n",
    "To find the internal kinetic energy of any given halo, we use the equation,\n",
    "\n",
    "\\begin{align}\n",
    "    E_{int,g} = K_{int,g} + P_{int,g},\n",
    "    \\label{eq:total_internal_energy}\n",
    "\\end{align}"
   ]
  },
  {
   "cell_type": "code",
   "execution_count": 8,
   "id": "d36cbdf5",
   "metadata": {},
   "outputs": [],
   "source": [
    "def total_int_energy(data):\n",
    "    \"\"\"\n",
    "    This function calculates the total internal energy of a halo.\n",
    "    \n",
    "    Parameters\n",
    "    ----------\n",
    "    dm_data: numpy.array\n",
    "        dark matter data\n",
    "        \n",
    "    Returns\n",
    "    -------\n",
    "    TE: float\n",
    "        total internal energy of the halo in Jules\n",
    "    \"\"\"\n",
    "    \n",
    "    KE = int_kinetic_energy(data)\n",
    "    PE = int_potential_energy(data)\n",
    "    \n",
    "    TE = KE + PE\n",
    "    \n",
    "    return TE"
   ]
  },
  {
   "cell_type": "code",
   "execution_count": 9,
   "id": "ac8f2ca9",
   "metadata": {},
   "outputs": [
    {
     "data": {
      "text/latex": [
       "$1.7023651 \\times 10^{52} \\; \\mathrm{\\frac{m^{2}\\,kg}{s^{2}}}$"
      ],
      "text/plain": [
       "<Quantity 1.70236507e+52 kg m2 / s2>"
      ]
     },
     "execution_count": 9,
     "metadata": {},
     "output_type": "execute_result"
    }
   ],
   "source": [
    "total_int_energy(data) # For MW at t=0"
   ]
  },
  {
   "cell_type": "markdown",
   "id": "e0f485ea",
   "metadata": {},
   "source": [
    "#### 5. Write a function that combines the data from MW & M31 after the merger has occured:\n",
    "\n",
    "We will assume that for t>5.86 Gyr (van der Marel+2012) the MW and M31 to be merged. So, this is when we will start tracking the energy budget of the Samyog's, the MW+M31 major merger remnant's, halo. Thus, we combine the data for MW and M31 for the further calculations."
   ]
  },
  {
   "cell_type": "code",
   "execution_count": 10,
   "id": "891f8fb6",
   "metadata": {},
   "outputs": [],
   "source": [
    "def Samyog_data(MW_data, M31_data):\n",
    "    \"\"\"\n",
    "    This function combines the halo data of M31 and MW for calculations after the merger has happened.\n",
    "    \n",
    "    Parameters\n",
    "    ----------\n",
    "    MW_data: numpy.array\n",
    "        dark matter data of MW\n",
    "    \n",
    "    M31_data: numpy.array\n",
    "        dark matter data of MW\n",
    "        \n",
    "    Return\n",
    "    -----\n",
    "    data: numpy.array\n",
    "        dark matter data of the merger Samyog\n",
    "    \"\"\"\n",
    "    \n",
    "    data = np.append(MW_data, M31_data, axis=0)\n",
    "    \n",
    "    return data"
   ]
  },
  {
   "cell_type": "markdown",
   "id": "64590f45",
   "metadata": {},
   "source": [
    "#### 6. Write a function to loop over data files to store a continuous energy evolution of different haloes for a given time period:\n",
    "We will write a function that loops over the different snapshots of each galaxy and calculates the energy budgets. We will start with calculating energy budgets for all three galaxy (MW, M31, and M33) haloes. After t=5.86 Gyr, we will switch to calculating the energy budgets for M33 and Samyog haloes.  "
   ]
  },
  {
   "cell_type": "code",
   "execution_count": 11,
   "id": "c9219686",
   "metadata": {},
   "outputs": [],
   "source": [
    "#def energy_budget_evolution():\n",
    "#    \"\"\"\n",
    "#    \"\"\""
   ]
  }
 ],
 "metadata": {
  "kernelspec": {
   "display_name": "Python 3 (ipykernel)",
   "language": "python",
   "name": "python3"
  },
  "language_info": {
   "codemirror_mode": {
    "name": "ipython",
    "version": 3
   },
   "file_extension": ".py",
   "mimetype": "text/x-python",
   "name": "python",
   "nbconvert_exporter": "python",
   "pygments_lexer": "ipython3",
   "version": "3.9.13"
  }
 },
 "nbformat": 4,
 "nbformat_minor": 5
}
